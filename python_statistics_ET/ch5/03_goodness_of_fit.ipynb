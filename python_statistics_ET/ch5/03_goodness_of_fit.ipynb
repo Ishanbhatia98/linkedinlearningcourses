{
 "cells": [
  {
   "cell_type": "code",
   "execution_count": 1,
   "metadata": {},
   "outputs": [],
   "source": [
    "import numpy as np\n",
    "import pandas as pd\n",
    "import matplotlib\n",
    "import matplotlib.pyplot as plt\n",
    " \n",
    "import scipy.stats\n",
    "\n",
    "%matplotlib inline"
   ]
  },
  {
   "cell_type": "code",
   "execution_count": 8,
   "metadata": {},
   "outputs": [],
   "source": [
    "import statsmodels\n",
    "import statsmodels.api as sm\n",
    "import statsmodels.formula.api as smf"
   ]
  },
  {
   "cell_type": "code",
   "execution_count": 9,
   "metadata": {},
   "outputs": [],
   "source": [
    "gapminder = pd.read_csv('gapminder.csv')"
   ]
  },
  {
   "cell_type": "code",
   "execution_count": 10,
   "metadata": {},
   "outputs": [],
   "source": [
    "gdata = gapminder[gapminder.year==1985]"
   ]
  },
  {
   "cell_type": "code",
   "execution_count": 11,
   "metadata": {},
   "outputs": [
    {
     "data": {
      "text/html": [
       "<div>\n",
       "<style scoped>\n",
       "    .dataframe tbody tr th:only-of-type {\n",
       "        vertical-align: middle;\n",
       "    }\n",
       "\n",
       "    .dataframe tbody tr th {\n",
       "        vertical-align: top;\n",
       "    }\n",
       "\n",
       "    .dataframe thead th {\n",
       "        text-align: right;\n",
       "    }\n",
       "</style>\n",
       "<table border=\"1\" class=\"dataframe\">\n",
       "  <thead>\n",
       "    <tr style=\"text-align: right;\">\n",
       "      <th></th>\n",
       "      <th>country</th>\n",
       "      <th>year</th>\n",
       "      <th>region</th>\n",
       "      <th>population</th>\n",
       "      <th>life_expectancy</th>\n",
       "      <th>age5_surviving</th>\n",
       "      <th>babies_per_woman</th>\n",
       "      <th>gdp_per_capita</th>\n",
       "      <th>gdp_per_day</th>\n",
       "    </tr>\n",
       "  </thead>\n",
       "  <tbody>\n",
       "    <tr>\n",
       "      <th>50</th>\n",
       "      <td>Afghanistan</td>\n",
       "      <td>1985</td>\n",
       "      <td>Asia</td>\n",
       "      <td>11630498.0</td>\n",
       "      <td>45.21</td>\n",
       "      <td>78.400</td>\n",
       "      <td>7.68</td>\n",
       "      <td>1384.0</td>\n",
       "      <td>3.789185</td>\n",
       "    </tr>\n",
       "    <tr>\n",
       "      <th>131</th>\n",
       "      <td>Albania</td>\n",
       "      <td>1985</td>\n",
       "      <td>Europe</td>\n",
       "      <td>2966799.0</td>\n",
       "      <td>72.71</td>\n",
       "      <td>94.570</td>\n",
       "      <td>3.23</td>\n",
       "      <td>4267.0</td>\n",
       "      <td>11.682409</td>\n",
       "    </tr>\n",
       "    <tr>\n",
       "      <th>212</th>\n",
       "      <td>Algeria</td>\n",
       "      <td>1985</td>\n",
       "      <td>Africa</td>\n",
       "      <td>22565908.0</td>\n",
       "      <td>67.18</td>\n",
       "      <td>92.880</td>\n",
       "      <td>5.98</td>\n",
       "      <td>11030.0</td>\n",
       "      <td>30.198494</td>\n",
       "    </tr>\n",
       "    <tr>\n",
       "      <th>293</th>\n",
       "      <td>Angola</td>\n",
       "      <td>1985</td>\n",
       "      <td>Africa</td>\n",
       "      <td>9745209.0</td>\n",
       "      <td>47.50</td>\n",
       "      <td>77.170</td>\n",
       "      <td>7.21</td>\n",
       "      <td>4117.0</td>\n",
       "      <td>11.271732</td>\n",
       "    </tr>\n",
       "    <tr>\n",
       "      <th>374</th>\n",
       "      <td>Antigua and Barbuda</td>\n",
       "      <td>1985</td>\n",
       "      <td>America</td>\n",
       "      <td>65744.0</td>\n",
       "      <td>72.13</td>\n",
       "      <td>96.946</td>\n",
       "      <td>2.09</td>\n",
       "      <td>11383.0</td>\n",
       "      <td>31.164956</td>\n",
       "    </tr>\n",
       "  </tbody>\n",
       "</table>\n",
       "</div>"
      ],
      "text/plain": [
       "                 country  year   region  population  life_expectancy  \\\n",
       "50           Afghanistan  1985     Asia  11630498.0            45.21   \n",
       "131              Albania  1985   Europe   2966799.0            72.71   \n",
       "212              Algeria  1985   Africa  22565908.0            67.18   \n",
       "293               Angola  1985   Africa   9745209.0            47.50   \n",
       "374  Antigua and Barbuda  1985  America     65744.0            72.13   \n",
       "\n",
       "     age5_surviving  babies_per_woman  gdp_per_capita  gdp_per_day  \n",
       "50           78.400              7.68          1384.0     3.789185  \n",
       "131          94.570              3.23          4267.0    11.682409  \n",
       "212          92.880              5.98         11030.0    30.198494  \n",
       "293          77.170              7.21          4117.0    11.271732  \n",
       "374          96.946              2.09         11383.0    31.164956  "
      ]
     },
     "execution_count": 11,
     "metadata": {},
     "output_type": "execute_result"
    }
   ],
   "source": [
    "gdata.head()"
   ]
  },
  {
   "cell_type": "code",
   "execution_count": 12,
   "metadata": {},
   "outputs": [],
   "source": [
    "size = 1e-6 * gdata.population\n",
    "colors = gdata.region.map({'Africa':'skyblue', 'Europe':'gold', 'America':'palegreen', 'Asia':'coral'})\n",
    "\n",
    "def plotdata():\n",
    "    gdata.plot.scatter('age5_surviving', 'babies_per_woman', \n",
    "                       c=colors, s=size,linewidth=0.5, edgecolor='k', alpha=0.5)"
   ]
  },
  {
   "cell_type": "code",
   "execution_count": 13,
   "metadata": {},
   "outputs": [],
   "source": [
    "def plotfit(fit):\n",
    "    plotdata()\n",
    "    plt.scatter(gdata.age5_surviving, grandmean.predict(gdata), \n",
    "               c=colors, s=30, linewidths=0.5, edgecolor='k', marker='D')"
   ]
  },
  {
   "cell_type": "code",
   "execution_count": 14,
   "metadata": {},
   "outputs": [],
   "source": [
    "groupmeans = smf.ols(formula='babies_per_woman ~ -1 + region', data=gdata).fit()\n",
    "surviving = smf.ols(formula = 'babies_per_woman ~ -1 + region + age5_surviving', data=gdata).fit()\n",
    "surviving_byregion = smf.ols('babies_per_woman ~ -1 + age5_surviving:region', data=gdata).fit()\n",
    "surviving_byregion_population = smf.ols('babies_per_woman ~ -1 + age5_surviving:region + population', data=gdata).fit()\n"
   ]
  },
  {
   "cell_type": "code",
   "execution_count": 17,
   "metadata": {},
   "outputs": [
    {
     "data": {
      "text/plain": [
       "<matplotlib.collections.PathCollection at 0x11e763080>"
      ]
     },
     "execution_count": 17,
     "metadata": {},
     "output_type": "execute_result"
    },
    {
     "data": {
      "image/png": "[encoded data removed]",
      "text/plain": [
       "<Figure size 432x288 with 1 Axes>"
      ]
     },
     "metadata": {
      "needs_background": "light"
     },
     "output_type": "display_data"
    }
   ],
   "source": [
    "plt.scatter(gdata.age5_surviving, groupmeans.resid)\n",
    "plt.scatter(gdata.age5_surviving, surviving.resid)\n",
    "plt.scatter(gdata.age5_surviving, surviving_byregion_population.resid)"
   ]
  },
  {
   "cell_type": "code",
   "execution_count": 19,
   "metadata": {},
   "outputs": [
    {
     "name": "stdout",
     "output_type": "stream",
     "text": [
      "1.4979520263709156\n",
      "0.9423025333008324\n",
      "2.035212694341319\n"
     ]
    }
   ],
   "source": [
    "models = [groupmeans, surviving, surviving_byregion_population]\n",
    "for model in models:\n",
    "    print(model.mse_resid)"
   ]
  },
  {
   "cell_type": "code",
   "execution_count": 20,
   "metadata": {},
   "outputs": [
    {
     "name": "stdout",
     "output_type": "stream",
     "text": [
      "0.6364676965596588\n",
      "0.7726009080146058\n",
      "0.9141145465308762\n"
     ]
    }
   ],
   "source": [
    "for model in models:\n",
    "    print(model.rsquared)"
   ]
  },
  {
   "cell_type": "code",
   "execution_count": 21,
   "metadata": {},
   "outputs": [
    {
     "name": "stdout",
     "output_type": "stream",
     "text": [
      "103.88003937611684\n",
      "150.34180603430977\n",
      "376.77690039590334\n"
     ]
    }
   ],
   "source": [
    "for model in models:\n",
    "    print(model.fvalue)"
   ]
  },
  {
   "cell_type": "code",
   "execution_count": 23,
   "metadata": {},
   "outputs": [
    {
     "data": {
      "text/html": [
       "<table class=\"simpletable\">\n",
       "<caption>OLS Regression Results</caption>\n",
       "<tr>\n",
       "  <th>Dep. Variable:</th>    <td>babies_per_woman</td> <th>  R-squared:         </th> <td>   0.773</td>\n",
       "</tr>\n",
       "<tr>\n",
       "  <th>Model:</th>                   <td>OLS</td>       <th>  Adj. R-squared:    </th> <td>   0.767</td>\n",
       "</tr>\n",
       "<tr>\n",
       "  <th>Method:</th>             <td>Least Squares</td>  <th>  F-statistic:       </th> <td>   150.3</td>\n",
       "</tr>\n",
       "<tr>\n",
       "  <th>Date:</th>             <td>Thu, 18 Jun 2020</td> <th>  Prob (F-statistic):</th> <td>8.26e-56</td>\n",
       "</tr>\n",
       "<tr>\n",
       "  <th>Time:</th>                 <td>11:42:53</td>     <th>  Log-Likelihood:    </th> <td> -250.30</td>\n",
       "</tr>\n",
       "<tr>\n",
       "  <th>No. Observations:</th>      <td>   182</td>      <th>  AIC:               </th> <td>   510.6</td>\n",
       "</tr>\n",
       "<tr>\n",
       "  <th>Df Residuals:</th>          <td>   177</td>      <th>  BIC:               </th> <td>   526.6</td>\n",
       "</tr>\n",
       "<tr>\n",
       "  <th>Df Model:</th>              <td>     4</td>      <th>                     </th>     <td> </td>   \n",
       "</tr>\n",
       "<tr>\n",
       "  <th>Covariance Type:</th>      <td>nonrobust</td>    <th>                     </th>     <td> </td>   \n",
       "</tr>\n",
       "</table>\n",
       "<table class=\"simpletable\">\n",
       "<tr>\n",
       "         <td></td>            <th>coef</th>     <th>std err</th>      <th>t</th>      <th>P>|t|</th>  <th>[0.025</th>    <th>0.975]</th>  \n",
       "</tr>\n",
       "<tr>\n",
       "  <th>region[Africa]</th>  <td>   18.2658</td> <td>    1.168</td> <td>   15.639</td> <td> 0.000</td> <td>   15.961</td> <td>   20.571</td>\n",
       "</tr>\n",
       "<tr>\n",
       "  <th>region[America]</th> <td>   17.0859</td> <td>    1.315</td> <td>   12.990</td> <td> 0.000</td> <td>   14.490</td> <td>   19.682</td>\n",
       "</tr>\n",
       "<tr>\n",
       "  <th>region[Asia]</th>    <td>   17.8647</td> <td>    1.279</td> <td>   13.971</td> <td> 0.000</td> <td>   15.341</td> <td>   20.388</td>\n",
       "</tr>\n",
       "<tr>\n",
       "  <th>region[Europe]</th>  <td>   15.8722</td> <td>    1.352</td> <td>   11.739</td> <td> 0.000</td> <td>   13.204</td> <td>   18.541</td>\n",
       "</tr>\n",
       "<tr>\n",
       "  <th>age5_surviving</th>  <td>   -0.1419</td> <td>    0.014</td> <td>  -10.294</td> <td> 0.000</td> <td>   -0.169</td> <td>   -0.115</td>\n",
       "</tr>\n",
       "</table>\n",
       "<table class=\"simpletable\">\n",
       "<tr>\n",
       "  <th>Omnibus:</th>       <td>13.021</td> <th>  Durbin-Watson:     </th> <td>   1.947</td>\n",
       "</tr>\n",
       "<tr>\n",
       "  <th>Prob(Omnibus):</th> <td> 0.001</td> <th>  Jarque-Bera (JB):  </th> <td>  18.362</td>\n",
       "</tr>\n",
       "<tr>\n",
       "  <th>Skew:</th>          <td> 0.443</td> <th>  Prob(JB):          </th> <td>0.000103</td>\n",
       "</tr>\n",
       "<tr>\n",
       "  <th>Kurtosis:</th>      <td> 4.279</td> <th>  Cond. No.          </th> <td>3.25e+03</td>\n",
       "</tr>\n",
       "</table><br/><br/>Warnings:<br/>[1] Standard Errors assume that the covariance matrix of the errors is correctly specified.<br/>[2] The condition number is large, 3.25e+03. This might indicate that there are<br/>strong multicollinearity or other numerical problems."
      ],
      "text/plain": [
       "<class 'statsmodels.iolib.summary.Summary'>\n",
       "\"\"\"\n",
       "                            OLS Regression Results                            \n",
       "==============================================================================\n",
       "Dep. Variable:       babies_per_woman   R-squared:                       0.773\n",
       "Model:                            OLS   Adj. R-squared:                  0.767\n",
       "Method:                 Least Squares   F-statistic:                     150.3\n",
       "Date:                Thu, 18 Jun 2020   Prob (F-statistic):           8.26e-56\n",
       "Time:                        11:42:53   Log-Likelihood:                -250.30\n",
       "No. Observations:                 182   AIC:                             510.6\n",
       "Df Residuals:                     177   BIC:                             526.6\n",
       "Df Model:                           4                                         \n",
       "Covariance Type:            nonrobust                                         \n",
       "===================================================================================\n",
       "                      coef    std err          t      P>|t|      [0.025      0.975]\n",
       "-----------------------------------------------------------------------------------\n",
       "region[Africa]     18.2658      1.168     15.639      0.000      15.961      20.571\n",
       "region[America]    17.0859      1.315     12.990      0.000      14.490      19.682\n",
       "region[Asia]       17.8647      1.279     13.971      0.000      15.341      20.388\n",
       "region[Europe]     15.8722      1.352     11.739      0.000      13.204      18.541\n",
       "age5_surviving     -0.1419      0.014    -10.294      0.000      -0.169      -0.115\n",
       "==============================================================================\n",
       "Omnibus:                       13.021   Durbin-Watson:                   1.947\n",
       "Prob(Omnibus):                  0.001   Jarque-Bera (JB):               18.362\n",
       "Skew:                           0.443   Prob(JB):                     0.000103\n",
       "Kurtosis:                       4.279   Cond. No.                     3.25e+03\n",
       "==============================================================================\n",
       "\n",
       "Warnings:\n",
       "[1] Standard Errors assume that the covariance matrix of the errors is correctly specified.\n",
       "[2] The condition number is large, 3.25e+03. This might indicate that there are\n",
       "strong multicollinearity or other numerical problems.\n",
       "\"\"\""
      ]
     },
     "execution_count": 23,
     "metadata": {},
     "output_type": "execute_result"
    }
   ],
   "source": [
    "surviving.summary()"
   ]
  },
  {
   "cell_type": "code",
   "execution_count": 24,
   "metadata": {},
   "outputs": [
    {
     "data": {
      "text/html": [
       "<div>\n",
       "<style scoped>\n",
       "    .dataframe tbody tr th:only-of-type {\n",
       "        vertical-align: middle;\n",
       "    }\n",
       "\n",
       "    .dataframe tbody tr th {\n",
       "        vertical-align: top;\n",
       "    }\n",
       "\n",
       "    .dataframe thead th {\n",
       "        text-align: right;\n",
       "    }\n",
       "</style>\n",
       "<table border=\"1\" class=\"dataframe\">\n",
       "  <thead>\n",
       "    <tr style=\"text-align: right;\">\n",
       "      <th></th>\n",
       "      <th>df</th>\n",
       "      <th>sum_sq</th>\n",
       "      <th>mean_sq</th>\n",
       "      <th>F</th>\n",
       "      <th>PR(&gt;F)</th>\n",
       "    </tr>\n",
       "  </thead>\n",
       "  <tbody>\n",
       "    <tr>\n",
       "      <th>region</th>\n",
       "      <td>4.0</td>\n",
       "      <td>3927.702839</td>\n",
       "      <td>981.925710</td>\n",
       "      <td>655.512121</td>\n",
       "      <td>2.604302e-105</td>\n",
       "    </tr>\n",
       "    <tr>\n",
       "      <th>Residual</th>\n",
       "      <td>178.0</td>\n",
       "      <td>266.635461</td>\n",
       "      <td>1.497952</td>\n",
       "      <td>NaN</td>\n",
       "      <td>NaN</td>\n",
       "    </tr>\n",
       "  </tbody>\n",
       "</table>\n",
       "</div>"
      ],
      "text/plain": [
       "             df       sum_sq     mean_sq           F         PR(>F)\n",
       "region      4.0  3927.702839  981.925710  655.512121  2.604302e-105\n",
       "Residual  178.0   266.635461    1.497952         NaN            NaN"
      ]
     },
     "execution_count": 24,
     "metadata": {},
     "output_type": "execute_result"
    }
   ],
   "source": [
    "sm.stats.anova_lm(groupmeans)"
   ]
  },
  {
   "cell_type": "code",
   "execution_count": null,
   "metadata": {},
   "outputs": [],
   "source": []
  }
 ],
 "metadata": {
  "hide_input": false,
  "kernelspec": {
   "display_name": "Python 3",
   "language": "python",
   "name": "python3"
  },
  "language_info": {
   "codemirror_mode": {
    "name": "ipython",
    "version": 3
   },
   "file_extension": ".py",
   "mimetype": "text/x-python",
   "name": "python",
   "nbconvert_exporter": "python",
   "pygments_lexer": "ipython3",
   "version": "3.7.2"
  }
 },
 "nbformat": 4,
 "nbformat_minor": 2
}
